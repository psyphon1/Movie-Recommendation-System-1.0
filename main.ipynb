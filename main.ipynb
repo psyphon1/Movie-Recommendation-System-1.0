{
 "cells": [
  {
   "cell_type": "code",
   "execution_count": null,
   "id": "de20daa6",
   "metadata": {},
   "outputs": [],
   "source": [
    "import pandas as pd \n",
    "import numpy as np \n",
    "import difflib\n",
    "from sklearn.feature_extraction.text import TfidfVectorizer\n",
    "from sklearn.metrics.pairwise import cosine_similarity\n"
   ]
  },
  {
   "cell_type": "code",
   "execution_count": null,
   "id": "a9216622",
   "metadata": {},
   "outputs": [],
   "source": [
    "movie_data=pd.read_csv('movies.csv')"
   ]
  },
  {
   "cell_type": "code",
   "execution_count": null,
   "id": "649416b3",
   "metadata": {},
   "outputs": [],
   "source": [
    "movie_data.head()"
   ]
  },
  {
   "cell_type": "code",
   "execution_count": null,
   "id": "c704dc7f",
   "metadata": {},
   "outputs": [],
   "source": [
    "selected_features = ['genres','keywords','tagline','cast','director']"
   ]
  },
  {
   "cell_type": "code",
   "execution_count": null,
   "id": "93a804e4",
   "metadata": {},
   "outputs": [],
   "source": [
    "print(selected_features)"
   ]
  },
  {
   "cell_type": "code",
   "execution_count": null,
   "id": "c18fb7c8",
   "metadata": {},
   "outputs": [],
   "source": [
    "for feature in selected_features:\n",
    "    movie_data[feature]=movie_data[feature].fillna('')"
   ]
  },
  {
   "cell_type": "code",
   "execution_count": null,
   "id": "c02bcbca",
   "metadata": {},
   "outputs": [],
   "source": [
    "combined_features = movie_data['genres']+movie_data['keywords']+movie_data['tagline']+movie_data['cast']+movie_data['director']"
   ]
  },
  {
   "cell_type": "code",
   "execution_count": null,
   "id": "6521bf41",
   "metadata": {},
   "outputs": [],
   "source": [
    "combined_features"
   ]
  },
  {
   "cell_type": "code",
   "execution_count": null,
   "id": "27402cfa",
   "metadata": {},
   "outputs": [],
   "source": [
    "vectorizer = TfidfVectorizer()"
   ]
  },
  {
   "cell_type": "code",
   "execution_count": null,
   "id": "bcaa7258",
   "metadata": {},
   "outputs": [],
   "source": [
    "feature_vectors = vectorizer.fit_transform(combined_features)"
   ]
  },
  {
   "cell_type": "code",
   "execution_count": null,
   "id": "b10f322f",
   "metadata": {},
   "outputs": [],
   "source": [
    "print(feature_vectors)"
   ]
  },
  {
   "cell_type": "code",
   "execution_count": null,
   "id": "57bde7e1",
   "metadata": {},
   "outputs": [],
   "source": [
    "similarity = cosine_similarity(feature_vectors)"
   ]
  },
  {
   "cell_type": "code",
   "execution_count": null,
   "id": "aee30f8a",
   "metadata": {},
   "outputs": [],
   "source": [
    "movie_name = input(\"Enter Movie Name:\")"
   ]
  },
  {
   "cell_type": "code",
   "execution_count": null,
   "id": "01eca421",
   "metadata": {},
   "outputs": [],
   "source": [
    "list_of_all_titles = movie_data['title'].tolist()"
   ]
  },
  {
   "cell_type": "code",
   "execution_count": null,
   "id": "93c2e7a6",
   "metadata": {},
   "outputs": [],
   "source": [
    "print(list_of_all_titles)"
   ]
  },
  {
   "cell_type": "code",
   "execution_count": null,
   "id": "40425f1f",
   "metadata": {},
   "outputs": [],
   "source": [
    "get_close_match = difflib.get_close_matches(movie_name,list_of_all_titles)"
   ]
  },
  {
   "cell_type": "code",
   "execution_count": null,
   "id": "37b68ae9",
   "metadata": {},
   "outputs": [],
   "source": [
    "print(get_close_match)"
   ]
  },
  {
   "cell_type": "code",
   "execution_count": null,
   "id": "f25a217b",
   "metadata": {},
   "outputs": [],
   "source": [
    "close_match = get_close_match[0]"
   ]
  },
  {
   "cell_type": "code",
   "execution_count": null,
   "id": "48c4d4a8",
   "metadata": {},
   "outputs": [],
   "source": [
    "print(close_match)"
   ]
  },
  {
   "cell_type": "code",
   "execution_count": null,
   "id": "bb6da0af",
   "metadata": {},
   "outputs": [],
   "source": [
    "index_of_movie = movie_data[movie_data.title == close_match]['index'].values[0]\n",
    "print(index_of_movie)"
   ]
  },
  {
   "cell_type": "code",
   "execution_count": null,
   "id": "f5d5d979",
   "metadata": {},
   "outputs": [],
   "source": []
  }
 ],
 "metadata": {
  "kernelspec": {
   "display_name": "venv",
   "language": "python",
   "name": "python3"
  },
  "language_info": {
   "codemirror_mode": {
    "name": "ipython",
    "version": 3
   },
   "file_extension": ".py",
   "mimetype": "text/x-python",
   "name": "python",
   "nbconvert_exporter": "python",
   "pygments_lexer": "ipython3",
   "version": "3.12.0"
  }
 },
 "nbformat": 4,
 "nbformat_minor": 5
}
